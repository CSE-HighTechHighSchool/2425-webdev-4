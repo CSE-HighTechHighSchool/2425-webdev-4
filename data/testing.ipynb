{
 "cells": [
  {
   "cell_type": "code",
   "execution_count": 3,
   "metadata": {},
   "outputs": [],
   "source": [
    "import pandas as pd"
   ]
  },
  {
   "cell_type": "code",
   "execution_count": 7,
   "metadata": {},
   "outputs": [],
   "source": [
    "nri_data = pd.read_csv('NRI_Table_Counties.csv')\n",
    "nri_data['STCOUNTYFP'] = nri_data['STATEFIPS'].astype(str).str.zfill(2) + nri_data['COUNTYFIPS'].astype(str).str.zfill(3)\n",
    "\n",
    "county_data = pd.read_csv('county_data.csv')"
   ]
  },
  {
   "cell_type": "code",
   "execution_count": null,
   "metadata": {},
   "outputs": [],
   "source": [
    "# Columns to keep: RISK_SCORE, EAL_SCORE"
   ]
  },
  {
   "cell_type": "code",
   "execution_count": 112,
   "metadata": {},
   "outputs": [],
   "source": [
    "nri_data = nri_data[['STCOUNTYFP', 'RISK_SCORE', 'EAL_SCORE']]\n",
    "nri_data['STCOUNTYFP'] = nri_data['STCOUNTYFP'].astype(int)\n",
    "\n",
    "nri_data.to_csv('nri_data.csv', index=False)"
   ]
  },
  {
   "cell_type": "code",
   "execution_count": 113,
   "metadata": {},
   "outputs": [
    {
     "data": {
      "text/plain": [
       "50.01547508511297"
      ]
     },
     "execution_count": 113,
     "metadata": {},
     "output_type": "execute_result"
    }
   ],
   "source": [
    "# Find average of each columns\n",
    "\n",
    "nri_data['EAL_SCORE'].aggregate('mean')"
   ]
  },
  {
   "cell_type": "code",
   "execution_count": 125,
   "metadata": {},
   "outputs": [
    {
     "name": "stdout",
     "output_type": "stream",
     "text": [
      "{'ZIP': {46107: 79068}, 'COUNTYNAME': {46107: 'Potter County'}, 'STATE': {46107: 'TX'}, 'STCOUNTYFP': {46107: 48375}, 'CLASSFP': {46107: 'H1'}}\n",
      "48375\n"
     ]
    },
    {
     "data": {
      "text/html": [
       "<div>\n",
       "<style scoped>\n",
       "    .dataframe tbody tr th:only-of-type {\n",
       "        vertical-align: middle;\n",
       "    }\n",
       "\n",
       "    .dataframe tbody tr th {\n",
       "        vertical-align: top;\n",
       "    }\n",
       "\n",
       "    .dataframe thead th {\n",
       "        text-align: right;\n",
       "    }\n",
       "</style>\n",
       "<table border=\"1\" class=\"dataframe\">\n",
       "  <thead>\n",
       "    <tr style=\"text-align: right;\">\n",
       "      <th></th>\n",
       "      <th>STCOUNTYFP</th>\n",
       "      <th>RISK_SCORE</th>\n",
       "      <th>EAL_SCORE</th>\n",
       "    </tr>\n",
       "  </thead>\n",
       "  <tbody>\n",
       "    <tr>\n",
       "      <th>2711</th>\n",
       "      <td>48375</td>\n",
       "      <td>91.091314</td>\n",
       "      <td>89.13649</td>\n",
       "    </tr>\n",
       "  </tbody>\n",
       "</table>\n",
       "</div>"
      ],
      "text/plain": [
       "      STCOUNTYFP  RISK_SCORE  EAL_SCORE\n",
       "2711       48375   91.091314   89.13649"
      ]
     },
     "execution_count": 125,
     "metadata": {},
     "output_type": "execute_result"
    }
   ],
   "source": [
    "# Select random zip code from county data, query STCOUNTYFP, and return RISK_SCORE and EAL_SCORE\n",
    "\n",
    "random_zip = county_data.sample(1).to_dict()\n",
    "print(random_zip)\n",
    "st_query = int(list(random_zip['STCOUNTYFP'].values())[0])\n",
    "print(st_query)\n",
    "\n",
    "\n",
    "nri_data[nri_data['STCOUNTYFP'] == st_query]"
   ]
  }
 ],
 "metadata": {
  "kernelspec": {
   "display_name": "Python 3",
   "language": "python",
   "name": "python3"
  },
  "language_info": {
   "codemirror_mode": {
    "name": "ipython",
    "version": 3
   },
   "file_extension": ".py",
   "mimetype": "text/x-python",
   "name": "python",
   "nbconvert_exporter": "python",
   "pygments_lexer": "ipython3",
   "version": "3.11.7"
  }
 },
 "nbformat": 4,
 "nbformat_minor": 2
}
