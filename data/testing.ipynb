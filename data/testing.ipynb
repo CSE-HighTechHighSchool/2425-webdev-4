{
 "cells": [
  {
   "cell_type": "code",
   "execution_count": 2,
   "metadata": {},
   "outputs": [],
   "source": [
    "import pandas as pd"
   ]
  },
  {
   "cell_type": "code",
   "execution_count": 3,
   "metadata": {},
   "outputs": [],
   "source": [
    "nri_data = pd.read_csv('NRI_Table_Counties.csv')\n",
    "nri_data['STCOUNTYFP'] = nri_data['STATEFIPS'].astype(str).str.zfill(2) + nri_data['COUNTYFIPS'].astype(str).str.zfill(3)\n",
    "\n",
    "county_data = pd.read_csv('county_data.csv')"
   ]
  },
  {
   "cell_type": "code",
   "execution_count": 4,
   "metadata": {},
   "outputs": [],
   "source": [
    "# Columns to keep: RISK_SCORE, EAL_SCORE"
   ]
  },
  {
   "cell_type": "code",
   "execution_count": 8,
   "metadata": {},
   "outputs": [],
   "source": [
    "nri_data = nri_data[['STCOUNTYFP', 'RISK_SCORE', 'EAL_SCORE', 'ERQK_RISKS',\n",
    "                     'RFLD_RISKS', 'CFLD_RISKS', 'HRCN_RISKS', 'TRND_RISKS',\n",
    "                     'WFIR_RISKS', 'WNTW_RISKS', 'HWAV_RISKS', 'DRGT_RISKS', 'HAIL_RISKS', 'SWND_RISKS', 'RFLD_EALS', 'ERQK_EALS', 'CFLD_EALS', 'HRCN_EALS', 'TRND_EALS', 'WFIR_EALS', 'WNTW_EALS', 'HWAV_EALS', 'DRGT_EALS', 'HAIL_EALS', 'SWND_EALS']]\n",
    "nri_data['STCOUNTYFP'] = nri_data['STCOUNTYFP'].astype(int)\n",
    "\n",
    "nri_data.to_csv('nri_data.csv', index=False)"
   ]
  },
  {
   "cell_type": "code",
   "execution_count": 9,
   "metadata": {},
   "outputs": [
    {
     "data": {
      "text/plain": [
       "50.01547508511297"
      ]
     },
     "execution_count": 9,
     "metadata": {},
     "output_type": "execute_result"
    }
   ],
   "source": [
    "# Find average of each columns\n",
    "\n",
    "nri_data['EAL_SCORE'].aggregate('mean')"
   ]
  },
  {
   "cell_type": "code",
   "execution_count": 7,
   "metadata": {},
   "outputs": [
    {
     "name": "stdout",
     "output_type": "stream",
     "text": [
      "{'ZIP': {3001: 95248}, 'COUNTYNAME': {3001: 'Calaveras County'}, 'STATE': {3001: 'CA'}, 'STCOUNTYFP': {3001: 6009}, 'CLASSFP': {3001: 'H1'}}\n",
      "6009\n"
     ]
    },
    {
     "data": {
      "text/html": [
       "<div>\n",
       "<style scoped>\n",
       "    .dataframe tbody tr th:only-of-type {\n",
       "        vertical-align: middle;\n",
       "    }\n",
       "\n",
       "    .dataframe tbody tr th {\n",
       "        vertical-align: top;\n",
       "    }\n",
       "\n",
       "    .dataframe thead th {\n",
       "        text-align: right;\n",
       "    }\n",
       "</style>\n",
       "<table border=\"1\" class=\"dataframe\">\n",
       "  <thead>\n",
       "    <tr style=\"text-align: right;\">\n",
       "      <th></th>\n",
       "      <th>STCOUNTYFP</th>\n",
       "      <th>RISK_SCORE</th>\n",
       "      <th>EAL_SCORE</th>\n",
       "      <th>ERQK_RISKS</th>\n",
       "      <th>RFLD_RISKS</th>\n",
       "      <th>CFLD_RISKS</th>\n",
       "      <th>HRCN_RISKS</th>\n",
       "      <th>TRND_RISKS</th>\n",
       "      <th>WFIR_RISKS</th>\n",
       "      <th>WNTW_RISKS</th>\n",
       "      <th>...</th>\n",
       "      <th>ERQK_EALS</th>\n",
       "      <th>CFLD_EALS</th>\n",
       "      <th>HRCN_EALS</th>\n",
       "      <th>TRND_EALS</th>\n",
       "      <th>WFIR_EALS</th>\n",
       "      <th>WNTW_EALS</th>\n",
       "      <th>HWAV_EALS</th>\n",
       "      <th>DRGT_EALS</th>\n",
       "      <th>HAIL_EALS</th>\n",
       "      <th>SWND_EALS</th>\n",
       "    </tr>\n",
       "  </thead>\n",
       "  <tbody>\n",
       "    <tr>\n",
       "      <th>191</th>\n",
       "      <td>6009</td>\n",
       "      <td>86.446071</td>\n",
       "      <td>86.443825</td>\n",
       "      <td>86.923322</td>\n",
       "      <td>34.871142</td>\n",
       "      <td>NaN</td>\n",
       "      <td>NaN</td>\n",
       "      <td>7.349666</td>\n",
       "      <td>99.427299</td>\n",
       "      <td>24.307986</td>\n",
       "      <td>...</td>\n",
       "      <td>85.639121</td>\n",
       "      <td>NaN</td>\n",
       "      <td>NaN</td>\n",
       "      <td>9.615385</td>\n",
       "      <td>99.331849</td>\n",
       "      <td>29.743114</td>\n",
       "      <td>85.48437</td>\n",
       "      <td>98.169975</td>\n",
       "      <td>5.366005</td>\n",
       "      <td>6.048387</td>\n",
       "    </tr>\n",
       "  </tbody>\n",
       "</table>\n",
       "<p>1 rows × 25 columns</p>\n",
       "</div>"
      ],
      "text/plain": [
       "     STCOUNTYFP  RISK_SCORE  EAL_SCORE  ERQK_RISKS  RFLD_RISKS  CFLD_RISKS  \\\n",
       "191        6009   86.446071  86.443825   86.923322   34.871142         NaN   \n",
       "\n",
       "     HRCN_RISKS  TRND_RISKS  WFIR_RISKS  WNTW_RISKS  ...  ERQK_EALS  \\\n",
       "191         NaN    7.349666   99.427299   24.307986  ...  85.639121   \n",
       "\n",
       "     CFLD_EALS  HRCN_EALS  TRND_EALS  WFIR_EALS  WNTW_EALS  HWAV_EALS  \\\n",
       "191        NaN        NaN   9.615385  99.331849  29.743114   85.48437   \n",
       "\n",
       "     DRGT_EALS  HAIL_EALS  SWND_EALS  \n",
       "191  98.169975   5.366005   6.048387  \n",
       "\n",
       "[1 rows x 25 columns]"
      ]
     },
     "execution_count": 7,
     "metadata": {},
     "output_type": "execute_result"
    }
   ],
   "source": [
    "# Select random zip code from county data, query STCOUNTYFP, and return RISK_SCORE and EAL_SCORE\n",
    "\n",
    "random_zip = county_data.sample(1).to_dict()\n",
    "print(random_zip)\n",
    "st_query = int(list(random_zip['STCOUNTYFP'].values())[0])\n",
    "print(st_query)\n",
    "\n",
    "\n",
    "nri_data[nri_data['STCOUNTYFP'] == st_query]"
   ]
  }
 ],
 "metadata": {
  "kernelspec": {
   "display_name": "Python 3",
   "language": "python",
   "name": "python3"
  },
  "language_info": {
   "codemirror_mode": {
    "name": "ipython",
    "version": 3
   },
   "file_extension": ".py",
   "mimetype": "text/x-python",
   "name": "python",
   "nbconvert_exporter": "python",
   "pygments_lexer": "ipython3",
   "version": "3.11.7"
  }
 },
 "nbformat": 4,
 "nbformat_minor": 2
}
